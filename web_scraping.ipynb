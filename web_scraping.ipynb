{
 "cells": [
  {
   "cell_type": "code",
   "execution_count": 8,
   "metadata": {},
   "outputs": [],
   "source": [
    "years = list(range(1991,2023))\n"
   ]
  },
  {
   "cell_type": "code",
   "execution_count": 9,
   "metadata": {},
   "outputs": [],
   "source": [
    "url_start = \"https://www.basketball-reference.com/awards/awards_{}.html\""
   ]
  },
  {
   "cell_type": "code",
   "execution_count": 10,
   "metadata": {},
   "outputs": [
    {
     "ename": "FileNotFoundError",
     "evalue": "[Errno 2] No such file or directory: 'mvp/{}.html'",
     "output_type": "error",
     "traceback": [
      "\u001b[1;31m---------------------------------------------------------------------------\u001b[0m",
      "\u001b[1;31mFileNotFoundError\u001b[0m                         Traceback (most recent call last)",
      "\u001b[1;32mc:\\Users\\Sid\\VSCode Git Repos\\NBA-Stats-Website\\web_scraping.ipynb Cell 3'\u001b[0m in \u001b[0;36m<cell line: 4>\u001b[1;34m()\u001b[0m\n\u001b[0;32m      <a href='vscode-notebook-cell:/c%3A/Users/Sid/VSCode%20Git%20Repos/NBA-Stats-Website/web_scraping.ipynb#ch0000002?line=6'>7</a>\u001b[0m data \u001b[39m=\u001b[39m requests\u001b[39m.\u001b[39mget(url)\n\u001b[0;32m      <a href='vscode-notebook-cell:/c%3A/Users/Sid/VSCode%20Git%20Repos/NBA-Stats-Website/web_scraping.ipynb#ch0000002?line=7'>8</a>\u001b[0m \u001b[39m#creates and opens the file in write mode and overwrites for each year\u001b[39;00m\n\u001b[1;32m---> <a href='vscode-notebook-cell:/c%3A/Users/Sid/VSCode%20Git%20Repos/NBA-Stats-Website/web_scraping.ipynb#ch0000002?line=9'>10</a>\u001b[0m \u001b[39mwith\u001b[39;00m \u001b[39mopen\u001b[39;49m(\u001b[39m\"\u001b[39;49m\u001b[39mmvp/\u001b[39;49m\u001b[39m{}\u001b[39;49;00m\u001b[39m.html\u001b[39;49m\u001b[39m\"\u001b[39;49m,\u001b[39m\"\u001b[39;49m\u001b[39mr\u001b[39;49m\u001b[39m\"\u001b[39;49m, encoding\u001b[39m=\u001b[39;49m\u001b[39m\"\u001b[39;49m\u001b[39mutf-8\u001b[39;49m\u001b[39m\"\u001b[39;49m) \u001b[39mas\u001b[39;00m f:\n\u001b[0;32m     <a href='vscode-notebook-cell:/c%3A/Users/Sid/VSCode%20Git%20Repos/NBA-Stats-Website/web_scraping.ipynb#ch0000002?line=10'>11</a>\u001b[0m     page \u001b[39m=\u001b[39m f\u001b[39m.\u001b[39mread\n",
      "\u001b[1;31mFileNotFoundError\u001b[0m: [Errno 2] No such file or directory: 'mvp/{}.html'"
     ]
    }
   ],
   "source": [
    "import requests\n",
    "\n",
    "\n",
    "for year in years:\n",
    "    #this replaces the brackets above with a specific while we iterate through all the years\n",
    "    url = url_start.format(year) \n",
    "    data = requests.get(url)\n",
    "    #creates and opens the file in write mode and overwrites for each year\n",
    "\n",
    "    with open(\"mvp/{}.html\",\"r\", encoding=\"utf-8\") as f:\n",
    "        page = f.read"
   ]
  }
 ],
 "metadata": {
  "kernelspec": {
   "display_name": "Python 3.10.6 64-bit (windows store)",
   "language": "python",
   "name": "python3"
  },
  "language_info": {
   "codemirror_mode": {
    "name": "ipython",
    "version": 3
   },
   "file_extension": ".py",
   "mimetype": "text/x-python",
   "name": "python",
   "nbconvert_exporter": "python",
   "pygments_lexer": "ipython3",
   "version": "3.10.6"
  },
  "orig_nbformat": 4,
  "vscode": {
   "interpreter": {
    "hash": "4fcbb3af350f390bf977b7c60685c1b3d98d5b647bab15fd4b2e886e3c28c0a5"
   }
  }
 },
 "nbformat": 4,
 "nbformat_minor": 2
}
